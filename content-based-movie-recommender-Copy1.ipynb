{
 "cells": [
  {
   "cell_type": "code",
   "execution_count": 1,
   "metadata": {
    "_cell_guid": "79c7e3d0-c299-4dcb-8224-4455121ee9b0",
    "_uuid": "d629ff2d2480ee46fbb7e2d37f6b5fab8052498a"
   },
   "outputs": [],
   "source": [
    "import numpy as np\n",
    "import pandas as pd\n",
    "import matplotlib.pyplot as plt"
   ]
  },
  {
   "cell_type": "code",
   "execution_count": 2,
   "metadata": {},
   "outputs": [],
   "source": [
    "import pymongo\n",
    "from pymongo import MongoClient"
   ]
  },
  {
   "cell_type": "code",
   "execution_count": 3,
   "metadata": {},
   "outputs": [],
   "source": [
    "connection=MongoClient('localhost',27017)\n",
    "db=connection.sai"
   ]
  },
  {
   "cell_type": "code",
   "execution_count": 4,
   "metadata": {},
   "outputs": [],
   "source": [
    "movie_data=db.final_movie_data"
   ]
  },
  {
   "cell_type": "code",
   "execution_count": 5,
   "metadata": {},
   "outputs": [],
   "source": [
    "dataset=pd.DataFrame(list(movie_data.find()))"
   ]
  },
  {
   "cell_type": "code",
   "execution_count": 6,
   "metadata": {},
   "outputs": [
    {
     "data": {
      "text/html": [
       "<div>\n",
       "<style scoped>\n",
       "    .dataframe tbody tr th:only-of-type {\n",
       "        vertical-align: middle;\n",
       "    }\n",
       "\n",
       "    .dataframe tbody tr th {\n",
       "        vertical-align: top;\n",
       "    }\n",
       "\n",
       "    .dataframe thead th {\n",
       "        text-align: right;\n",
       "    }\n",
       "</style>\n",
       "<table border=\"1\" class=\"dataframe\">\n",
       "  <thead>\n",
       "    <tr style=\"text-align: right;\">\n",
       "      <th></th>\n",
       "      <th>_id</th>\n",
       "      <th>index</th>\n",
       "      <th>director_name</th>\n",
       "      <th>actor_1_name</th>\n",
       "      <th>actor_2_name</th>\n",
       "      <th>actor_3_name</th>\n",
       "      <th>genres</th>\n",
       "      <th>movie_title</th>\n",
       "      <th>comb</th>\n",
       "    </tr>\n",
       "  </thead>\n",
       "  <tbody>\n",
       "    <tr>\n",
       "      <th>0</th>\n",
       "      <td>60199d525c4f52a1de9a2aa7</td>\n",
       "      <td>0</td>\n",
       "      <td>James Cameron</td>\n",
       "      <td>CCH Pounder</td>\n",
       "      <td>Joel David Moore</td>\n",
       "      <td>Wes Studi</td>\n",
       "      <td>Action Adventure Fantasy Sci-Fi</td>\n",
       "      <td>avatar</td>\n",
       "      <td>CCH Pounder Joel David Moore Wes Studi James C...</td>\n",
       "    </tr>\n",
       "    <tr>\n",
       "      <th>1</th>\n",
       "      <td>60199d525c4f52a1de9a2aa8</td>\n",
       "      <td>1</td>\n",
       "      <td>Doug Walker</td>\n",
       "      <td>Doug Walker</td>\n",
       "      <td>Rob Walker</td>\n",
       "      <td>NaN</td>\n",
       "      <td>Documentary</td>\n",
       "      <td>star wars: episode vii - the force awakens</td>\n",
       "      <td>Doug Walker Rob Walker  Doug Walker Documentary</td>\n",
       "    </tr>\n",
       "    <tr>\n",
       "      <th>2</th>\n",
       "      <td>60199d525c4f52a1de9a2aa9</td>\n",
       "      <td>2</td>\n",
       "      <td>Andrew Stanton</td>\n",
       "      <td>Daryl Sabara</td>\n",
       "      <td>Samantha Morton</td>\n",
       "      <td>Polly Walker</td>\n",
       "      <td>Action Adventure Sci-Fi</td>\n",
       "      <td>john carter</td>\n",
       "      <td>Daryl Sabara Samantha Morton Polly Walker Andr...</td>\n",
       "    </tr>\n",
       "    <tr>\n",
       "      <th>3</th>\n",
       "      <td>60199d525c4f52a1de9a2aaa</td>\n",
       "      <td>3</td>\n",
       "      <td>Nathan Greno</td>\n",
       "      <td>Brad Garrett</td>\n",
       "      <td>Donna Murphy</td>\n",
       "      <td>M.C. Gainey</td>\n",
       "      <td>Adventure Animation Comedy Family Fantasy Musi...</td>\n",
       "      <td>tangled</td>\n",
       "      <td>Brad Garrett Donna Murphy M.C. Gainey Nathan G...</td>\n",
       "    </tr>\n",
       "    <tr>\n",
       "      <th>4</th>\n",
       "      <td>60199d525c4f52a1de9a2aab</td>\n",
       "      <td>4</td>\n",
       "      <td>Joss Whedon</td>\n",
       "      <td>Chris Hemsworth</td>\n",
       "      <td>Robert Downey Jr.</td>\n",
       "      <td>Scarlett Johansson</td>\n",
       "      <td>Action Adventure Sci-Fi</td>\n",
       "      <td>avengers: age of ultron</td>\n",
       "      <td>Chris Hemsworth Robert Downey Jr. Scarlett Joh...</td>\n",
       "    </tr>\n",
       "    <tr>\n",
       "      <th>...</th>\n",
       "      <td>...</td>\n",
       "      <td>...</td>\n",
       "      <td>...</td>\n",
       "      <td>...</td>\n",
       "      <td>...</td>\n",
       "      <td>...</td>\n",
       "      <td>...</td>\n",
       "      <td>...</td>\n",
       "      <td>...</td>\n",
       "    </tr>\n",
       "    <tr>\n",
       "      <th>6063</th>\n",
       "      <td>60199d525c4f52a1de9a4256</td>\n",
       "      <td>6063</td>\n",
       "      <td>Pete Docter</td>\n",
       "      <td>Jamie Foxx</td>\n",
       "      <td>Tina Fey</td>\n",
       "      <td>Graham Norton</td>\n",
       "      <td>Animation Comedy Drama Music Fantasy</td>\n",
       "      <td>soul</td>\n",
       "      <td>Jamie Foxx Tina Fey Graham Norton Pete Docter ...</td>\n",
       "    </tr>\n",
       "    <tr>\n",
       "      <th>6064</th>\n",
       "      <td>60199d525c4f52a1de9a4257</td>\n",
       "      <td>6064</td>\n",
       "      <td>Robert Rodriguez</td>\n",
       "      <td>Priyanka Chopra Jonas</td>\n",
       "      <td>Pedro Pascal</td>\n",
       "      <td>YaYa Gosselin</td>\n",
       "      <td>Action Fantasy Family</td>\n",
       "      <td>we can be heroes</td>\n",
       "      <td>Priyanka Chopra Jonas Pedro Pascal YaYa Gossel...</td>\n",
       "    </tr>\n",
       "    <tr>\n",
       "      <th>6065</th>\n",
       "      <td>60199d525c4f52a1de9a4258</td>\n",
       "      <td>6065</td>\n",
       "      <td>Regina King</td>\n",
       "      <td>Kingsley Ben-Adir</td>\n",
       "      <td>Eli Goree</td>\n",
       "      <td>Aldis Hodge</td>\n",
       "      <td>Drama</td>\n",
       "      <td>one night in miami</td>\n",
       "      <td>Kingsley Ben-Adir Eli Goree Aldis Hodge Regina...</td>\n",
       "    </tr>\n",
       "    <tr>\n",
       "      <th>6066</th>\n",
       "      <td>60199d525c4f52a1de9a4259</td>\n",
       "      <td>6066</td>\n",
       "      <td>Emerald Fennell</td>\n",
       "      <td>Carey Mulligan</td>\n",
       "      <td>Bo Burnham</td>\n",
       "      <td>Alison Brie</td>\n",
       "      <td>Thriller Crime Drama</td>\n",
       "      <td>promising young woman</td>\n",
       "      <td>Carey Mulligan Bo Burnham Alison Brie Emerald ...</td>\n",
       "    </tr>\n",
       "    <tr>\n",
       "      <th>6067</th>\n",
       "      <td>60199d525c4f52a1de9a425a</td>\n",
       "      <td>6067</td>\n",
       "      <td>Kornél Mundruczó</td>\n",
       "      <td>Vanessa Kirby</td>\n",
       "      <td>Shia LaBeouf</td>\n",
       "      <td>Molly Parker</td>\n",
       "      <td>Drama</td>\n",
       "      <td>pieces of a woman</td>\n",
       "      <td>Vanessa Kirby Shia LaBeouf Molly Parker Kornél...</td>\n",
       "    </tr>\n",
       "  </tbody>\n",
       "</table>\n",
       "<p>6068 rows × 9 columns</p>\n",
       "</div>"
      ],
      "text/plain": [
       "                           _id  index     director_name  \\\n",
       "0     60199d525c4f52a1de9a2aa7      0     James Cameron   \n",
       "1     60199d525c4f52a1de9a2aa8      1       Doug Walker   \n",
       "2     60199d525c4f52a1de9a2aa9      2    Andrew Stanton   \n",
       "3     60199d525c4f52a1de9a2aaa      3      Nathan Greno   \n",
       "4     60199d525c4f52a1de9a2aab      4       Joss Whedon   \n",
       "...                        ...    ...               ...   \n",
       "6063  60199d525c4f52a1de9a4256   6063       Pete Docter   \n",
       "6064  60199d525c4f52a1de9a4257   6064  Robert Rodriguez   \n",
       "6065  60199d525c4f52a1de9a4258   6065       Regina King   \n",
       "6066  60199d525c4f52a1de9a4259   6066   Emerald Fennell   \n",
       "6067  60199d525c4f52a1de9a425a   6067  Kornél Mundruczó   \n",
       "\n",
       "               actor_1_name       actor_2_name        actor_3_name  \\\n",
       "0               CCH Pounder   Joel David Moore           Wes Studi   \n",
       "1               Doug Walker         Rob Walker                 NaN   \n",
       "2              Daryl Sabara    Samantha Morton        Polly Walker   \n",
       "3              Brad Garrett       Donna Murphy         M.C. Gainey   \n",
       "4           Chris Hemsworth  Robert Downey Jr.  Scarlett Johansson   \n",
       "...                     ...                ...                 ...   \n",
       "6063             Jamie Foxx           Tina Fey       Graham Norton   \n",
       "6064  Priyanka Chopra Jonas       Pedro Pascal       YaYa Gosselin   \n",
       "6065      Kingsley Ben-Adir          Eli Goree         Aldis Hodge   \n",
       "6066         Carey Mulligan         Bo Burnham         Alison Brie   \n",
       "6067          Vanessa Kirby       Shia LaBeouf        Molly Parker   \n",
       "\n",
       "                                                 genres  \\\n",
       "0                       Action Adventure Fantasy Sci-Fi   \n",
       "1                                           Documentary   \n",
       "2                               Action Adventure Sci-Fi   \n",
       "3     Adventure Animation Comedy Family Fantasy Musi...   \n",
       "4                               Action Adventure Sci-Fi   \n",
       "...                                                 ...   \n",
       "6063               Animation Comedy Drama Music Fantasy   \n",
       "6064                              Action Fantasy Family   \n",
       "6065                                              Drama   \n",
       "6066                               Thriller Crime Drama   \n",
       "6067                                              Drama   \n",
       "\n",
       "                                     movie_title  \\\n",
       "0                                         avatar   \n",
       "1     star wars: episode vii - the force awakens   \n",
       "2                                    john carter   \n",
       "3                                        tangled   \n",
       "4                        avengers: age of ultron   \n",
       "...                                          ...   \n",
       "6063                                        soul   \n",
       "6064                            we can be heroes   \n",
       "6065                          one night in miami   \n",
       "6066                       promising young woman   \n",
       "6067                           pieces of a woman   \n",
       "\n",
       "                                                   comb  \n",
       "0     CCH Pounder Joel David Moore Wes Studi James C...  \n",
       "1       Doug Walker Rob Walker  Doug Walker Documentary  \n",
       "2     Daryl Sabara Samantha Morton Polly Walker Andr...  \n",
       "3     Brad Garrett Donna Murphy M.C. Gainey Nathan G...  \n",
       "4     Chris Hemsworth Robert Downey Jr. Scarlett Joh...  \n",
       "...                                                 ...  \n",
       "6063  Jamie Foxx Tina Fey Graham Norton Pete Docter ...  \n",
       "6064  Priyanka Chopra Jonas Pedro Pascal YaYa Gossel...  \n",
       "6065  Kingsley Ben-Adir Eli Goree Aldis Hodge Regina...  \n",
       "6066  Carey Mulligan Bo Burnham Alison Brie Emerald ...  \n",
       "6067  Vanessa Kirby Shia LaBeouf Molly Parker Kornél...  \n",
       "\n",
       "[6068 rows x 9 columns]"
      ]
     },
     "execution_count": 6,
     "metadata": {},
     "output_type": "execute_result"
    }
   ],
   "source": [
    "data=pd.DataFrame(dataset)\n",
    "#credits.drop([\"_id\"], inplace = True)\n",
    "data"
   ]
  },
  {
   "cell_type": "code",
   "execution_count": 7,
   "metadata": {},
   "outputs": [],
   "source": [
    "#data = pd.read_csv('F:\\data_2020.csv')\n",
    "#data.head()"
   ]
  },
  {
   "cell_type": "code",
   "execution_count": 8,
   "metadata": {},
   "outputs": [],
   "source": [
    "#data.head()"
   ]
  },
  {
   "cell_type": "code",
   "execution_count": 9,
   "metadata": {},
   "outputs": [
    {
     "data": {
      "text/plain": [
       "0                         Action Adventure Fantasy Sci-Fi\n",
       "1                                             Documentary\n",
       "2                                 Action Adventure Sci-Fi\n",
       "3       Adventure Animation Comedy Family Fantasy Musi...\n",
       "4                                 Action Adventure Sci-Fi\n",
       "                              ...                        \n",
       "6063                 Animation Comedy Drama Music Fantasy\n",
       "6064                                Action Fantasy Family\n",
       "6065                                                Drama\n",
       "6066                                 Thriller Crime Drama\n",
       "6067                                                Drama\n",
       "Name: genres, Length: 6068, dtype: object"
      ]
     },
     "execution_count": 9,
     "metadata": {},
     "output_type": "execute_result"
    }
   ],
   "source": [
    "## clean genres--- remove | between generes\n",
    "#data['genres'] = data['genres'].apply(lambda a: str(a).replace('|', ' '))\n",
    "data['genres']"
   ]
  },
  {
   "cell_type": "code",
   "execution_count": 10,
   "metadata": {},
   "outputs": [
    {
     "data": {
      "text/plain": [
       "'avatar'"
      ]
     },
     "execution_count": 10,
     "metadata": {},
     "output_type": "execute_result"
    }
   ],
   "source": [
    "data['movie_title'][0]"
   ]
  },
  {
   "cell_type": "code",
   "execution_count": 11,
   "metadata": {},
   "outputs": [
    {
     "data": {
      "text/plain": [
       "'avatar'"
      ]
     },
     "execution_count": 11,
     "metadata": {},
     "output_type": "execute_result"
    }
   ],
   "source": [
    "#data['movie_title'] = data['movie_title'].apply(lambda a:a[:-1])\n",
    "data['movie_title'][0]"
   ]
  },
  {
   "cell_type": "code",
   "execution_count": 12,
   "metadata": {},
   "outputs": [
    {
     "data": {
      "text/html": [
       "<div>\n",
       "<style scoped>\n",
       "    .dataframe tbody tr th:only-of-type {\n",
       "        vertical-align: middle;\n",
       "    }\n",
       "\n",
       "    .dataframe tbody tr th {\n",
       "        vertical-align: top;\n",
       "    }\n",
       "\n",
       "    .dataframe thead th {\n",
       "        text-align: right;\n",
       "    }\n",
       "</style>\n",
       "<table border=\"1\" class=\"dataframe\">\n",
       "  <thead>\n",
       "    <tr style=\"text-align: right;\">\n",
       "      <th></th>\n",
       "      <th>_id</th>\n",
       "      <th>index</th>\n",
       "      <th>director_name</th>\n",
       "      <th>actor_1_name</th>\n",
       "      <th>actor_2_name</th>\n",
       "      <th>actor_3_name</th>\n",
       "      <th>genres</th>\n",
       "      <th>movie_title</th>\n",
       "      <th>comb</th>\n",
       "    </tr>\n",
       "  </thead>\n",
       "  <tbody>\n",
       "    <tr>\n",
       "      <th>0</th>\n",
       "      <td>60199d525c4f52a1de9a2aa7</td>\n",
       "      <td>0</td>\n",
       "      <td>James Cameron</td>\n",
       "      <td>CCH Pounder</td>\n",
       "      <td>Joel David Moore</td>\n",
       "      <td>Wes Studi</td>\n",
       "      <td>Action Adventure Fantasy Sci-Fi</td>\n",
       "      <td>avatar</td>\n",
       "      <td>CCH Pounder Joel David Moore Wes Studi James C...</td>\n",
       "    </tr>\n",
       "    <tr>\n",
       "      <th>1</th>\n",
       "      <td>60199d525c4f52a1de9a2aa8</td>\n",
       "      <td>1</td>\n",
       "      <td>Doug Walker</td>\n",
       "      <td>Doug Walker</td>\n",
       "      <td>Rob Walker</td>\n",
       "      <td>NaN</td>\n",
       "      <td>Documentary</td>\n",
       "      <td>star wars: episode vii - the force awakens</td>\n",
       "      <td>Doug Walker Rob Walker  Doug Walker Documentary</td>\n",
       "    </tr>\n",
       "    <tr>\n",
       "      <th>2</th>\n",
       "      <td>60199d525c4f52a1de9a2aa9</td>\n",
       "      <td>2</td>\n",
       "      <td>Andrew Stanton</td>\n",
       "      <td>Daryl Sabara</td>\n",
       "      <td>Samantha Morton</td>\n",
       "      <td>Polly Walker</td>\n",
       "      <td>Action Adventure Sci-Fi</td>\n",
       "      <td>john carter</td>\n",
       "      <td>Daryl Sabara Samantha Morton Polly Walker Andr...</td>\n",
       "    </tr>\n",
       "    <tr>\n",
       "      <th>3</th>\n",
       "      <td>60199d525c4f52a1de9a2aaa</td>\n",
       "      <td>3</td>\n",
       "      <td>Nathan Greno</td>\n",
       "      <td>Brad Garrett</td>\n",
       "      <td>Donna Murphy</td>\n",
       "      <td>M.C. Gainey</td>\n",
       "      <td>Adventure Animation Comedy Family Fantasy Musi...</td>\n",
       "      <td>tangled</td>\n",
       "      <td>Brad Garrett Donna Murphy M.C. Gainey Nathan G...</td>\n",
       "    </tr>\n",
       "    <tr>\n",
       "      <th>4</th>\n",
       "      <td>60199d525c4f52a1de9a2aab</td>\n",
       "      <td>4</td>\n",
       "      <td>Joss Whedon</td>\n",
       "      <td>Chris Hemsworth</td>\n",
       "      <td>Robert Downey Jr.</td>\n",
       "      <td>Scarlett Johansson</td>\n",
       "      <td>Action Adventure Sci-Fi</td>\n",
       "      <td>avengers: age of ultron</td>\n",
       "      <td>Chris Hemsworth Robert Downey Jr. Scarlett Joh...</td>\n",
       "    </tr>\n",
       "  </tbody>\n",
       "</table>\n",
       "</div>"
      ],
      "text/plain": [
       "                        _id  index   director_name     actor_1_name  \\\n",
       "0  60199d525c4f52a1de9a2aa7      0   James Cameron      CCH Pounder   \n",
       "1  60199d525c4f52a1de9a2aa8      1     Doug Walker      Doug Walker   \n",
       "2  60199d525c4f52a1de9a2aa9      2  Andrew Stanton     Daryl Sabara   \n",
       "3  60199d525c4f52a1de9a2aaa      3    Nathan Greno     Brad Garrett   \n",
       "4  60199d525c4f52a1de9a2aab      4     Joss Whedon  Chris Hemsworth   \n",
       "\n",
       "        actor_2_name        actor_3_name  \\\n",
       "0   Joel David Moore           Wes Studi   \n",
       "1         Rob Walker                 NaN   \n",
       "2    Samantha Morton        Polly Walker   \n",
       "3       Donna Murphy         M.C. Gainey   \n",
       "4  Robert Downey Jr.  Scarlett Johansson   \n",
       "\n",
       "                                              genres  \\\n",
       "0                    Action Adventure Fantasy Sci-Fi   \n",
       "1                                        Documentary   \n",
       "2                            Action Adventure Sci-Fi   \n",
       "3  Adventure Animation Comedy Family Fantasy Musi...   \n",
       "4                            Action Adventure Sci-Fi   \n",
       "\n",
       "                                  movie_title  \\\n",
       "0                                      avatar   \n",
       "1  star wars: episode vii - the force awakens   \n",
       "2                                 john carter   \n",
       "3                                     tangled   \n",
       "4                     avengers: age of ultron   \n",
       "\n",
       "                                                comb  \n",
       "0  CCH Pounder Joel David Moore Wes Studi James C...  \n",
       "1    Doug Walker Rob Walker  Doug Walker Documentary  \n",
       "2  Daryl Sabara Samantha Morton Polly Walker Andr...  \n",
       "3  Brad Garrett Donna Murphy M.C. Gainey Nathan G...  \n",
       "4  Chris Hemsworth Robert Downey Jr. Scarlett Joh...  "
      ]
     },
     "execution_count": 12,
     "metadata": {},
     "output_type": "execute_result"
    }
   ],
   "source": [
    "data.head()"
   ]
  },
  {
   "cell_type": "markdown",
   "metadata": {},
   "source": [
    "### vectorizing and then calculating cosine sim"
   ]
  },
  {
   "cell_type": "code",
   "execution_count": 13,
   "metadata": {},
   "outputs": [],
   "source": [
    "from sklearn.feature_extraction.text import CountVectorizer\n",
    "from sklearn.metrics.pairwise import cosine_similarity"
   ]
  },
  {
   "cell_type": "code",
   "execution_count": 14,
   "metadata": {},
   "outputs": [],
   "source": [
    "vec = CountVectorizer()\n",
    "vec_matrix = vec.fit_transform(data['comb'].values.astype('U'))"
   ]
  },
  {
   "cell_type": "code",
   "execution_count": 15,
   "metadata": {},
   "outputs": [
    {
     "name": "stdout",
     "output_type": "stream",
     "text": [
      "[[1.         0.         0.3086067  ... 0.         0.         0.        ]\n",
      " [0.         1.         0.2236068  ... 0.         0.         0.        ]\n",
      " [0.3086067  0.2236068  1.         ... 0.         0.         0.        ]\n",
      " ...\n",
      " [0.         0.         0.         ... 1.         0.09534626 0.10540926]\n",
      " [0.         0.         0.         ... 0.09534626 1.         0.10050378]\n",
      " [0.         0.         0.         ... 0.10540926 0.10050378 1.        ]]\n"
     ]
    }
   ],
   "source": [
    "similarity = cosine_similarity(vec_matrix)\n",
    "print(similarity)"
   ]
  },
  {
   "cell_type": "code",
   "execution_count": 16,
   "metadata": {},
   "outputs": [],
   "source": [
    "def recommend(movie):\n",
    "    if movie not in data['movie_title'].unique():\n",
    "        return('Sorry! The movie you requested is not in our database. Please check the spelling or try with some other movies')\n",
    "    else:\n",
    "        i = data.loc[data['movie_title']==movie].index[0]\n",
    "        lst = list(enumerate(similarity[i]))\n",
    "        #print(lst)\n",
    "        lst = sorted(lst, key = lambda x:x[1] ,reverse=True)\n",
    "        lst = lst[1:11] # excluding first item since it is the requested movie itself\n",
    "        print(lst)\n",
    "        l = []\n",
    "        for i in range(len(lst)):\n",
    "            a = lst[i][0]\n",
    "            print(a)\n",
    "            l.append(data['movie_title'][a])\n",
    "        plt.bar(l, [i[1] for i in lst])\n",
    "        plt.xticks(rotation=90)\n",
    "        plt.xlabel('similar movies to---> '+movie)\n",
    "        plt.ylabel('cosine scores')\n",
    "        return l"
   ]
  },
  {
   "cell_type": "code",
   "execution_count": 17,
   "metadata": {},
   "outputs": [
    {
     "name": "stdout",
     "output_type": "stream",
     "text": [
      "[(5381, 0.38461538461538464), (5747, 0.38461538461538464), (5996, 0.38461538461538464), (5497, 0.35805743701971643), (5544, 0.35805743701971643), (5464, 0.3344968040028363), (5483, 0.3202563076101743), (5523, 0.3202563076101743), (5548, 0.3202563076101743), (5858, 0.3202563076101743)]\n",
      "5381\n",
      "5747\n",
      "5996\n",
      "5497\n",
      "5544\n",
      "5464\n",
      "5483\n",
      "5523\n",
      "5548\n",
      "5858\n"
     ]
    },
    {
     "data": {
      "text/plain": [
       "['the cloverfield paradox',\n",
       " 'bloodline',\n",
       " 'love and monsters',\n",
       " 'the first purge',\n",
       " 'the predator',\n",
       " 'revenge',\n",
       " 'hotel artemis',\n",
       " 'the meg',\n",
       " 'lizzie',\n",
       " 'the invisible man']"
      ]
     },
     "execution_count": 17,
     "metadata": {},
     "output_type": "execute_result"
    },
    {
     "data": {
      "image/png": "[encoded data removed]",
      "text/plain": [
       "<Figure size 432x288 with 1 Axes>"
      ]
     },
     "metadata": {
      "needs_background": "light"
     },
     "output_type": "display_data"
    }
   ],
   "source": [
    "recommend('underwater')"
   ]
  },
  {
   "cell_type": "code",
   "execution_count": 18,
   "metadata": {},
   "outputs": [
    {
     "data": {
      "text/plain": [
       "'bad boys ii'"
      ]
     },
     "execution_count": 18,
     "metadata": {},
     "output_type": "execute_result"
    }
   ],
   "source": [
    "#in place of a change it to 171\n",
    "data['movie_title'][171]"
   ]
  },
  {
   "cell_type": "code",
   "execution_count": 19,
   "metadata": {},
   "outputs": [
    {
     "data": {
      "text/plain": [
       "2049               the bachelor\n",
       "2960             september dawn\n",
       "1126            the sixth sense\n",
       "1339             the blind side\n",
       "299                the campaign\n",
       "5720                  good boys\n",
       "5552                life itself\n",
       "5341     the girl from the song\n",
       "3866            day of the dead\n",
       "41      star trek into darkness\n",
       "Name: movie_title, dtype: object"
      ]
     },
     "execution_count": 19,
     "metadata": {},
     "output_type": "execute_result"
    }
   ],
   "source": [
    "data['movie_title'].sample(10)"
   ]
  },
  {
   "cell_type": "code",
   "execution_count": 20,
   "metadata": {},
   "outputs": [
    {
     "data": {
      "text/plain": [
       "'Sorry! The movie you requested is not in our database. Please check the spelling or try with some other movies'"
      ]
     },
     "execution_count": 20,
     "metadata": {},
     "output_type": "execute_result"
    }
   ],
   "source": [
    "recommend('The Kids Are All Right')"
   ]
  },
  {
   "cell_type": "code",
   "execution_count": 21,
   "metadata": {},
   "outputs": [
    {
     "data": {
      "text/plain": [
       "'Sorry! The movie you requested is not in our database. Please check the spelling or try with some other movies'"
      ]
     },
     "execution_count": 21,
     "metadata": {},
     "output_type": "execute_result"
    }
   ],
   "source": [
    "recommend('The Dark Knight Rises')"
   ]
  },
  {
   "cell_type": "code",
   "execution_count": 22,
   "metadata": {
    "scrolled": true
   },
   "outputs": [
    {
     "name": "stdout",
     "output_type": "stream",
     "text": [
      "[(5381, 0.38461538461538464), (5747, 0.38461538461538464), (5996, 0.38461538461538464), (5497, 0.35805743701971643), (5544, 0.35805743701971643), (5464, 0.3344968040028363), (5483, 0.3202563076101743), (5523, 0.3202563076101743), (5548, 0.3202563076101743), (5858, 0.3202563076101743)]\n",
      "5381\n",
      "5747\n",
      "5996\n",
      "5497\n",
      "5544\n",
      "5464\n",
      "5483\n",
      "5523\n",
      "5548\n",
      "5858\n"
     ]
    },
    {
     "data": {
      "text/plain": [
       "['the cloverfield paradox',\n",
       " 'bloodline',\n",
       " 'love and monsters',\n",
       " 'the first purge',\n",
       " 'the predator',\n",
       " 'revenge',\n",
       " 'hotel artemis',\n",
       " 'the meg',\n",
       " 'lizzie',\n",
       " 'the invisible man']"
      ]
     },
     "execution_count": 22,
     "metadata": {},
     "output_type": "execute_result"
    },
    {
     "data": {
      "image/png": "[encoded data removed]",
      "text/plain": [
       "<Figure size 432x288 with 1 Axes>"
      ]
     },
     "metadata": {
      "needs_background": "light"
     },
     "output_type": "display_data"
    }
   ],
   "source": [
    "recommend('underwater')"
   ]
  },
  {
   "cell_type": "code",
   "execution_count": 32,
   "metadata": {},
   "outputs": [
    {
     "name": "stdout",
     "output_type": "stream",
     "text": [
      "[(1059, 0.6), (1464, 0.4), (2431, 0.4), (2640, 0.4), (2686, 0.4), (2935, 0.4), (3346, 0.4), (3544, 0.38138503569823695), (2126, 0.3508232077228117), (3645, 0.3508232077228117)]\n",
      "1059\n",
      "1464\n",
      "2431\n",
      "2640\n",
      "2686\n",
      "2935\n",
      "3346\n",
      "3544\n",
      "2126\n",
      "3645\n"
     ]
    },
    {
     "data": {
      "text/plain": [
       "['revolutionary road',\n",
       " 'the reader',\n",
       " 'sense and sensibility',\n",
       " 'romeo + juliet',\n",
       " 'little children',\n",
       " \"what's eating gilbert grape\",\n",
       " 'the great gatsby',\n",
       " 'iris',\n",
       " 'eternal sunshine of the spotless mind',\n",
       " 'heavenly creatures']"
      ]
     },
     "execution_count": 32,
     "metadata": {},
     "output_type": "execute_result"
    },
    {
     "data": {
      "image/png": "[encoded data removed]",
      "text/plain": [
       "<Figure size 432x288 with 1 Axes>"
      ]
     },
     "metadata": {
      "needs_background": "light"
     },
     "output_type": "display_data"
    }
   ],
   "source": [
    "recommend('titanic')"
   ]
  },
  {
   "cell_type": "code",
   "execution_count": 23,
   "metadata": {},
   "outputs": [],
   "source": [
    "import pickle\n",
    "# load the nlp model and tfidf vectorizer from disk\n",
    "filename = 'nlp_model.pkl'\n",
    "clf = pickle.load(open(filename, 'rb'))\n",
    "vectorizer = pickle.load(open('tranform.pkl','rb'))"
   ]
  },
  {
   "cell_type": "code",
   "execution_count": 24,
   "metadata": {},
   "outputs": [],
   "source": [
    "from sklearn.feature_extraction.text import TfidfVectorizer\n",
    "from sklearn.metrics.pairwise import euclidean_distances"
   ]
  },
  {
   "cell_type": "code",
   "execution_count": 25,
   "metadata": {},
   "outputs": [],
   "source": [
    "v = TfidfVectorizer()\n",
    "tfidf_des = v.fit_transform(data['comb'].values.astype('U'))"
   ]
  },
  {
   "cell_type": "code",
   "execution_count": 26,
   "metadata": {},
   "outputs": [],
   "source": [
    "Euc_Dis = euclidean_distances(tfidf_des)\n",
    "#Euc_D = euclidean_distances(vec_matrix)"
   ]
  },
  {
   "cell_type": "code",
   "execution_count": 27,
   "metadata": {},
   "outputs": [],
   "source": [
    "def recommend_eucledian(movie):\n",
    "    if movie not in data['movie_title'].unique():\n",
    "        return('Sorry! The movie you requested is not in our database. Please check the spelling or try with some other movies')\n",
    "    else:\n",
    "        i = data.loc[data['movie_title']==movie].index[0]\n",
    "        lst = list(enumerate(Euc_Dis[i]))\n",
    "        #print(lst)\n",
    "        lst = sorted(lst, key = lambda x:x[1] ,reverse=True)\n",
    "        lst = lst[0:11] # excluding first item since it is the requested movie itself\n",
    "        print(lst)\n",
    "        l = []\n",
    "        for i in range(len(lst)):\n",
    "            a = lst[i][0]\n",
    "            print(a)\n",
    "            l.append(data['movie_title'][a])\n",
    "        plt.bar(l, [i[1] for i in lst])\n",
    "        plt.xticks(rotation=90)\n",
    "        plt.xlabel('similar movies to---> '+movie)\n",
    "        plt.ylabel('eucledian scores')\n",
    "        return l"
   ]
  },
  {
   "cell_type": "code",
   "execution_count": 28,
   "metadata": {
    "scrolled": false
   },
   "outputs": [
    {
     "name": "stdout",
     "output_type": "stream",
     "text": [
      "[(22, 1.4142135623730951), (30, 1.4142135623730951), (42, 1.4142135623730951), (48, 1.4142135623730951), (50, 1.4142135623730951), (53, 1.4142135623730951), (65, 1.4142135623730951), (69, 1.4142135623730951), (79, 1.4142135623730951), (82, 1.4142135623730951), (85, 1.4142135623730951)]\n",
      "22\n",
      "30\n",
      "42\n",
      "48\n",
      "50\n",
      "53\n",
      "65\n",
      "69\n",
      "79\n",
      "82\n",
      "85\n"
     ]
    },
    {
     "data": {
      "text/plain": [
       "['the golden compass',\n",
       " 'monsters university',\n",
       " 'jack the giant slayer',\n",
       " 'brave',\n",
       " 'wall·e',\n",
       " 'a christmas carol',\n",
       " 'evan almighty',\n",
       " 'inside out',\n",
       " 'the polar express',\n",
       " 'how to train your dragon',\n",
       " 'interstellar']"
      ]
     },
     "execution_count": 28,
     "metadata": {},
     "output_type": "execute_result"
    },
    {
     "data": {
      "image/png": "[encoded data removed]",
      "text/plain": [
       "<Figure size 432x288 with 1 Axes>"
      ]
     },
     "metadata": {
      "needs_background": "light"
     },
     "output_type": "display_data"
    }
   ],
   "source": [
    "recommend_eucledian('underwater')"
   ]
  },
  {
   "cell_type": "markdown",
   "metadata": {},
   "source": [
    "### using tf-idf vectorizer instead of count vectorizer"
   ]
  },
  {
   "cell_type": "code",
   "execution_count": 29,
   "metadata": {},
   "outputs": [],
   "source": [
    "xsimilarity = cosine_similarity(tfidf_des)"
   ]
  },
  {
   "cell_type": "code",
   "execution_count": 30,
   "metadata": {},
   "outputs": [],
   "source": [
    "def recommend_c(movie):\n",
    "    if movie not in data['movie_title'].unique():\n",
    "        return('Sorry! The movie you requested is not in our database. Please check the spelling or try with some other movies')\n",
    "    else:\n",
    "        i = data.loc[data['movie_title']==movie].index[0]\n",
    "        lst = list(enumerate(xsimilarity[i]))\n",
    "        #print(lst)\n",
    "        lst = sorted(lst, key = lambda x:x[1] ,reverse=True)\n",
    "        lst = lst[1:11] # excluding first item since it is the requested movie itself\n",
    "        print(lst)\n",
    "        l = []\n",
    "        for i in range(len(lst)):\n",
    "            a = lst[i][0]\n",
    "            print(a)\n",
    "            l.append(data['movie_title'][a])\n",
    "        plt.bar(l, [i[1] for i in lst])\n",
    "        plt.xticks(rotation=90)\n",
    "        plt.xlabel('similar movies to---> '+movie)\n",
    "        plt.ylabel('cosine scores')\n",
    "        return l"
   ]
  },
  {
   "cell_type": "code",
   "execution_count": 31,
   "metadata": {},
   "outputs": [
    {
     "name": "stdout",
     "output_type": "stream",
     "text": [
      "[(5996, 0.38442796754691616), (2153, 0.24445792598669513), (4854, 0.23196073119958346), (2502, 0.22991237420619381), (5548, 0.22669607752967608), (5946, 0.2170996029352708), (5417, 0.20293565520761886), (71, 0.20106925811135745), (391, 0.1978462557198132), (1747, 0.1967801307151153)]\n",
      "5996\n",
      "2153\n",
      "4854\n",
      "2502\n",
      "5548\n",
      "5946\n",
      "5417\n",
      "71\n",
      "391\n",
      "1747\n"
     ]
    },
    {
     "data": {
      "text/plain": [
       "['love and monsters',\n",
       " 'into the wild',\n",
       " 'the signal',\n",
       " 'the yellow handkerchief',\n",
       " 'lizzie',\n",
       " 'bill & ted face the music',\n",
       " '7 days in entebbe',\n",
       " 'snow white and the huntsman',\n",
       " 'jumper',\n",
       " 'what just happened']"
      ]
     },
     "execution_count": 31,
     "metadata": {},
     "output_type": "execute_result"
    },
    {
     "data": {
      "image/png": "[encoded data removed]",
      "text/plain": [
       "<Figure size 432x288 with 1 Axes>"
      ]
     },
     "metadata": {
      "needs_background": "light"
     },
     "output_type": "display_data"
    }
   ],
   "source": [
    "recommend_c('underwater')"
   ]
  },
  {
   "cell_type": "code",
   "execution_count": null,
   "metadata": {},
   "outputs": [],
   "source": []
  }
 ],
 "metadata": {
  "kernelspec": {
   "display_name": "Python 3",
   "language": "python",
   "name": "python3"
  },
  "language_info": {
   "codemirror_mode": {
    "name": "ipython",
    "version": 3
   },
   "file_extension": ".py",
   "mimetype": "text/x-python",
   "name": "python",
   "nbconvert_exporter": "python",
   "pygments_lexer": "ipython3",
   "version": "3.7.3"
  }
 },
 "nbformat": 4,
 "nbformat_minor": 4
}
