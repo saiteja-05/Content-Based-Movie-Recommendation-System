{
 "cells": [
  {
   "cell_type": "markdown",
   "metadata": {},
   "source": [
    "## initializing spark\n"
   ]
  },
  {
   "cell_type": "code",
   "execution_count": 1,
   "metadata": {},
   "outputs": [],
   "source": [
    "#importing spark\n",
    "import findspark\n",
    "findspark.init()\n",
    "\n",
    "import pyspark\n",
    "sc=pyspark.SparkContext().getOrCreate()"
   ]
  },
  {
   "cell_type": "markdown",
   "metadata": {},
   "source": [
    "## importing data from mongodb "
   ]
  },
  {
   "cell_type": "code",
   "execution_count": 2,
   "metadata": {},
   "outputs": [],
   "source": [
    "from pyspark.sql import *\n",
    "spark = SparkSession.builder.config(\"spark.mongodb.input.uri=mongodb://127.0.0.1/sai.movie_meta\").getOrCreate()"
   ]
  },
  {
   "cell_type": "markdown",
   "metadata": {},
   "source": [
    "## reading data into spark dataframe"
   ]
  },
  {
   "cell_type": "code",
   "execution_count": 3,
   "metadata": {},
   "outputs": [],
   "source": [
    "#df1 = spark.read.option(\"header\",\"true\").option(\"inferSchema\",\"true\").csv(\"movie_metadata.csv\")\n",
    "df1=spark.read.format(\"mongo\").option(\"uri\",\"mongodb://127.0.0.1/sai.movie_meta\").load()"
   ]
  },
  {
   "cell_type": "code",
   "execution_count": 4,
   "metadata": {},
   "outputs": [
    {
     "data": {
      "text/plain": [
       "DataFrame[_id: struct<oid:string>, actor_1_facebook_likes: string, actor_1_name: string, actor_2_facebook_likes: string, actor_2_name: string, actor_3_facebook_likes: string, actor_3_name: string, aspect_ratio: string, budget: string, cast_total_facebook_likes: int, color: string, content_rating: string, country: string, director_facebook_likes: string, director_name: string, duration: string, facenumber_in_poster: string, genres: string, gross: string, imdb_score: double, language: string, movie_facebook_likes: int, movie_imdb_link: string, movie_title: string, num_critic_for_reviews: string, num_user_for_reviews: string, num_voted_users: int, plot_keywords: string, title_year: string]"
      ]
     },
     "execution_count": 4,
     "metadata": {},
     "output_type": "execute_result"
    }
   ],
   "source": [
    "df1"
   ]
  },
  {
   "cell_type": "code",
   "execution_count": 5,
   "metadata": {},
   "outputs": [
    {
     "name": "stdout",
     "output_type": "stream",
     "text": [
      "+--------------------+----------------------+------------------+----------------------+--------------------+----------------------+--------------------+------------+---------+-------------------------+-----+--------------+-----------+-----------------------+-----------------+--------+--------------------+--------------------+---------+----------+--------+--------------------+--------------------+--------------------+----------------------+--------------------+---------------+--------------------+----------+\n",
      "|                 _id|actor_1_facebook_likes|      actor_1_name|actor_2_facebook_likes|        actor_2_name|actor_3_facebook_likes|        actor_3_name|aspect_ratio|   budget|cast_total_facebook_likes|color|content_rating|    country|director_facebook_likes|    director_name|duration|facenumber_in_poster|              genres|    gross|imdb_score|language|movie_facebook_likes|     movie_imdb_link|         movie_title|num_critic_for_reviews|num_user_for_reviews|num_voted_users|       plot_keywords|title_year|\n",
      "+--------------------+----------------------+------------------+----------------------+--------------------+----------------------+--------------------+------------+---------+-------------------------+-----+--------------+-----------+-----------------------+-----------------+--------+--------------------+--------------------+---------+----------+--------+--------------------+--------------------+--------------------+----------------------+--------------------+---------------+--------------------+----------+\n",
      "|[6005b92fb45b1264...|                  1000|       CCH Pounder|                   936|    Joel David Moore|                   855|           Wes Studi|        1.78|237000000|                     4834|Color|         PG-13|        USA|                      0|    James Cameron|     178|                   0|Action|Adventure|...|760505847|       7.9| English|               33000|http://www.imdb.c...|              Avatar|                   723|                3054|         886204|avatar|future|mar...|      2009|\n",
      "|[6005b92fb45b1264...|                 40000|       Johnny Depp|                  5000|       Orlando Bloom|                  1000|      Jack Davenport|        2.35|300000000|                    48350|Color|         PG-13|        USA|                    563|   Gore Verbinski|     169|                   0|Action|Adventure|...|309404152|       7.1| English|                   0|http://www.imdb.c...|Pirates of the Ca...|                   302|                1238|         471220|goddess|marriage ...|      2007|\n",
      "|[6005b92fb45b1264...|                   640|      Daryl Sabara|                   632|     Samantha Morton|                   530|        Polly Walker|        2.35|263700000|                     1873|Color|         PG-13|        USA|                    475|   Andrew Stanton|     132|                   1|Action|Adventure|...| 73058679|       6.6| English|               24000|http://www.imdb.c...|         John Carter|                   462|                 738|         212204|alien|american ci...|      2012|\n",
      "|[6005b92fb45b1264...|                 11000|   Christoph Waltz|                   393|        Rory Kinnear|                   161|    Stephanie Sigman|        2.35|245000000|                    11700|Color|         PG-13|         UK|                      0|       Sam Mendes|     148|                   1|Action|Adventure|...|200074175|       6.8| English|               85000|http://www.imdb.c...|             Spectre|                   602|                 994|         275868|bomb|espionage|se...|      2015|\n",
      "|[6005b92fb45b1264...|                 27000|         Tom Hardy|                 23000|      Christian Bale|                 23000|Joseph Gordon-Levitt|        2.35|250000000|                   106759|Color|         PG-13|        USA|                  22000|Christopher Nolan|     164|                   0|     Action|Thriller|448130642|       8.5| English|              164000|http://www.imdb.c...|The Dark Knight R...|                   813|                2701|        1144337|deception|impriso...|      2012|\n",
      "|[6005b92fb45b1264...|                   131|       Doug Walker|                    12|          Rob Walker|                      |                    |            |         |                      143|     |              |           |                    131|      Doug Walker|        |                   0|         Documentary|         |       7.1|        |                   0|http://www.imdb.c...|Star Wars: Episod...|                      |                    |              8|                    |          |\n",
      "|[6005b92fb45b1264...|                 24000|      J.K. Simmons|                 11000|        James Franco|                  4000|       Kirsten Dunst|        2.35|258000000|                    46055|Color|         PG-13|        USA|                      0|        Sam Raimi|     156|                   0|Action|Adventure|...|336530303|       6.2| English|                   0|http://www.imdb.c...|        Spider-Man 3|                   392|                1902|         383056|sandman|spider ma...|      2007|\n",
      "|[6005b92fb45b1264...|                   799|      Brad Garrett|                   553|        Donna Murphy|                   284|         M.C. Gainey|        1.85|260000000|                     2036|Color|            PG|        USA|                     15|     Nathan Greno|     100|                   1|Adventure|Animati...|200807262|       7.8| English|               29000|http://www.imdb.c...|             Tangled|                   324|                 387|         294810|17th century|base...|      2010|\n",
      "|[6005b92fb45b1264...|                 26000|   Chris Hemsworth|                 21000|   Robert Downey Jr.|                 19000|  Scarlett Johansson|        2.35|250000000|                    92000|Color|         PG-13|        USA|                      0|      Joss Whedon|     141|                   4|Action|Adventure|...|458991599|       7.5| English|              118000|http://www.imdb.c...|Avengers: Age of ...|                   635|                1117|         462669|artificial intell...|      2015|\n",
      "|[6005b92fb45b1264...|                 25000|      Alan Rickman|                 11000|    Daniel Radcliffe|                 10000|        Rupert Grint|        2.35|250000000|                    58753|Color|            PG|         UK|                    282|      David Yates|     153|                   3|Adventure|Family|...|301956980|       7.5| English|               10000|http://www.imdb.c...|Harry Potter and ...|                   375|                 973|         321795|blood|book|love|p...|      2009|\n",
      "|[6005b92fb45b1264...|                 15000|      Henry Cavill|                  4000|        Lauren Cohan|                  2000|      Alan D. Purwin|        2.35|250000000|                    24450|Color|         PG-13|        USA|                      0|      Zack Snyder|     183|                   0|Action|Adventure|...|330249062|       6.9| English|              197000|http://www.imdb.c...|Batman v Superman...|                   673|                3018|         371639|based on comic bo...|      2016|\n",
      "|[6005b92fb45b1264...|                 18000|      Kevin Spacey|                 10000|       Marlon Brando|                   903|      Frank Langella|        2.35|209000000|                    29991|Color|         PG-13|        USA|                      0|     Bryan Singer|     169|                   0|Action|Adventure|...|200069408|       6.1| English|                   0|http://www.imdb.c...|    Superman Returns|                   434|                2367|         240396|crystal|epic|lex ...|      2006|\n",
      "|[6005b92fb45b1264...|                   451|Giancarlo Giannini|                   412|     Mathieu Amalric|                   393|        Rory Kinnear|        2.35|200000000|                     2023|Color|         PG-13|         UK|                    395|     Marc Forster|     106|                   1|    Action|Adventure|168368427|       6.7| English|                   0|http://www.imdb.c...|   Quantum of Solace|                   403|                1243|         330784|action hero|attem...|      2008|\n",
      "|[6005b92fb45b1264...|                 40000|       Johnny Depp|                  5000|       Orlando Bloom|                  1000|      Jack Davenport|        2.35|225000000|                    48486|Color|         PG-13|        USA|                    563|   Gore Verbinski|     151|                   2|Action|Adventure|...|423032628|       7.3| English|                5000|http://www.imdb.c...|Pirates of the Ca...|                   313|                1832|         522040|box office hit|gi...|      2006|\n",
      "|[6005b92fb45b1264...|                 40000|       Johnny Depp|                  2000|         Ruth Wilson|                  1000|       Tom Wilkinson|        2.35|215000000|                    45757|Color|         PG-13|        USA|                    563|   Gore Verbinski|     150|                   1|Action|Adventure|...| 89289910|       6.5| English|               48000|http://www.imdb.c...|     The Lone Ranger|                   450|                 711|         181792|horse|outlaw|texa...|      2013|\n",
      "|[6005b92fb45b1264...|                 15000|      Henry Cavill|                  3000|  Christopher Meloni|                   748|        Harry Lennix|        2.35|225000000|                    20495|Color|         PG-13|        USA|                      0|      Zack Snyder|     143|                   0|Action|Adventure|...|291021565|       7.2| English|              118000|http://www.imdb.c...|        Man of Steel|                   733|                2536|         548573|based on comic bo...|      2013|\n",
      "|[6005b92fb45b1264...|                 22000|    Peter Dinklage|                   216|Pierfrancesco Favino|                   201|      Damián Alcázar|        2.35|225000000|                    22697|Color|            PG|        USA|                     80|   Andrew Adamson|     150|                   4|Action|Adventure|...|141614023|       6.6| English|                   0|http://www.imdb.c...|The Chronicles of...|                   258|                 438|         149922|brother brother r...|      2008|\n",
      "|[6005b92fb45b1264...|                 26000|   Chris Hemsworth|                 21000|   Robert Downey Jr.|                 19000|  Scarlett Johansson|        1.85|220000000|                    87697|Color|         PG-13|        USA|                      0|      Joss Whedon|     173|                   3|Action|Adventure|...|623279547|       8.1| English|              123000|http://www.imdb.c...|        The Avengers|                   703|                1722|         995415|alien invasion|as...|      2012|\n",
      "|[6005b92fb45b1264...|                 40000|       Johnny Depp|                 11000|         Sam Claflin|                  1000|      Stephen Graham|        2.35|250000000|                    54083|Color|         PG-13|        USA|                    252|     Rob Marshall|     136|                   4|Action|Adventure|...|241063875|       6.7| English|               58000|http://www.imdb.c...|Pirates of the Ca...|                   448|                 484|         370704|blackbeard|captai...|      2011|\n",
      "|[6005b92fb45b1264...|                  5000|      Aidan Turner|                   972|          Adam Brown|                   773|       James Nesbitt|        2.35|250000000|                     9152|Color|         PG-13|New Zealand|                      0|    Peter Jackson|     164|                   0|   Adventure|Fantasy|255108370|       7.5| English|               65000|http://www.imdb.c...|The Hobbit: The B...|                   422|                 802|         354228|army|elf|hobbit|m...|      2014|\n",
      "+--------------------+----------------------+------------------+----------------------+--------------------+----------------------+--------------------+------------+---------+-------------------------+-----+--------------+-----------+-----------------------+-----------------+--------+--------------------+--------------------+---------+----------+--------+--------------------+--------------------+--------------------+----------------------+--------------------+---------------+--------------------+----------+\n",
      "only showing top 20 rows\n",
      "\n"
     ]
    }
   ],
   "source": [
    "df1.show()"
   ]
  },
  {
   "cell_type": "markdown",
   "metadata": {},
   "source": [
    "## selecting required Features and droping remaining columns for recommendation"
   ]
  },
  {
   "cell_type": "code",
   "execution_count": 6,
   "metadata": {},
   "outputs": [
    {
     "name": "stdout",
     "output_type": "stream",
     "text": [
      "+-----------------+------------------+--------------------+--------------------+--------------------+--------------------+\n",
      "|    director_name|      actor_1_name|        actor_2_name|        actor_3_name|              genres|         movie_title|\n",
      "+-----------------+------------------+--------------------+--------------------+--------------------+--------------------+\n",
      "|    James Cameron|       CCH Pounder|    Joel David Moore|           Wes Studi|Action|Adventure|...|              Avatar|\n",
      "|   Gore Verbinski|       Johnny Depp|       Orlando Bloom|      Jack Davenport|Action|Adventure|...|Pirates of the Ca...|\n",
      "|   Andrew Stanton|      Daryl Sabara|     Samantha Morton|        Polly Walker|Action|Adventure|...|         John Carter|\n",
      "|       Sam Mendes|   Christoph Waltz|        Rory Kinnear|    Stephanie Sigman|Action|Adventure|...|             Spectre|\n",
      "|Christopher Nolan|         Tom Hardy|      Christian Bale|Joseph Gordon-Levitt|     Action|Thriller|The Dark Knight R...|\n",
      "|      Doug Walker|       Doug Walker|          Rob Walker|                    |         Documentary|Star Wars: Episod...|\n",
      "|        Sam Raimi|      J.K. Simmons|        James Franco|       Kirsten Dunst|Action|Adventure|...|        Spider-Man 3|\n",
      "|     Nathan Greno|      Brad Garrett|        Donna Murphy|         M.C. Gainey|Adventure|Animati...|             Tangled|\n",
      "|      Joss Whedon|   Chris Hemsworth|   Robert Downey Jr.|  Scarlett Johansson|Action|Adventure|...|Avengers: Age of ...|\n",
      "|      David Yates|      Alan Rickman|    Daniel Radcliffe|        Rupert Grint|Adventure|Family|...|Harry Potter and ...|\n",
      "|      Zack Snyder|      Henry Cavill|        Lauren Cohan|      Alan D. Purwin|Action|Adventure|...|Batman v Superman...|\n",
      "|     Bryan Singer|      Kevin Spacey|       Marlon Brando|      Frank Langella|Action|Adventure|...|    Superman Returns|\n",
      "|     Marc Forster|Giancarlo Giannini|     Mathieu Amalric|        Rory Kinnear|    Action|Adventure|   Quantum of Solace|\n",
      "|   Gore Verbinski|       Johnny Depp|       Orlando Bloom|      Jack Davenport|Action|Adventure|...|Pirates of the Ca...|\n",
      "|   Gore Verbinski|       Johnny Depp|         Ruth Wilson|       Tom Wilkinson|Action|Adventure|...|     The Lone Ranger|\n",
      "|      Zack Snyder|      Henry Cavill|  Christopher Meloni|        Harry Lennix|Action|Adventure|...|        Man of Steel|\n",
      "|   Andrew Adamson|    Peter Dinklage|Pierfrancesco Favino|      Damián Alcázar|Action|Adventure|...|The Chronicles of...|\n",
      "|      Joss Whedon|   Chris Hemsworth|   Robert Downey Jr.|  Scarlett Johansson|Action|Adventure|...|        The Avengers|\n",
      "|     Rob Marshall|       Johnny Depp|         Sam Claflin|      Stephen Graham|Action|Adventure|...|Pirates of the Ca...|\n",
      "|    Peter Jackson|      Aidan Turner|          Adam Brown|       James Nesbitt|   Adventure|Fantasy|The Hobbit: The B...|\n",
      "+-----------------+------------------+--------------------+--------------------+--------------------+--------------------+\n",
      "only showing top 20 rows\n",
      "\n"
     ]
    }
   ],
   "source": [
    "cols = ['director_name','actor_1_name','actor_2_name','actor_3_name','genres','movie_title']\n",
    "df1=df1.select(*cols)\n",
    "df1.show()"
   ]
  },
  {
   "cell_type": "markdown",
   "metadata": {},
   "source": [
    "## filling na values as 'unknown' "
   ]
  },
  {
   "cell_type": "code",
   "execution_count": 7,
   "metadata": {},
   "outputs": [
    {
     "data": {
      "text/plain": [
       "DataFrame[director_name: string, actor_1_name: string, actor_2_name: string, actor_3_name: string, genres: string, movie_title: string]"
      ]
     },
     "execution_count": 7,
     "metadata": {},
     "output_type": "execute_result"
    }
   ],
   "source": [
    "#unkown as it is string it occupies min  8 byte ,if we use null then it occupies 0 bytes\n",
    "df1.na.fill({'actor_1_name': 'unknown','actor_1_name': 'unknown','actor_1_name': 'unknown','director_name':'unknown'})"
   ]
  },
  {
   "cell_type": "code",
   "execution_count": 8,
   "metadata": {},
   "outputs": [
    {
     "name": "stdout",
     "output_type": "stream",
     "text": [
      "+-----------------+------------------+--------------------+--------------------+--------------------+--------------------+\n",
      "|    director_name|      actor_1_name|        actor_2_name|        actor_3_name|              genres|         movie_title|\n",
      "+-----------------+------------------+--------------------+--------------------+--------------------+--------------------+\n",
      "|    James Cameron|       CCH Pounder|    Joel David Moore|           Wes Studi|Action|Adventure|...|              Avatar|\n",
      "|   Gore Verbinski|       Johnny Depp|       Orlando Bloom|      Jack Davenport|Action|Adventure|...|Pirates of the Ca...|\n",
      "|   Andrew Stanton|      Daryl Sabara|     Samantha Morton|        Polly Walker|Action|Adventure|...|         John Carter|\n",
      "|       Sam Mendes|   Christoph Waltz|        Rory Kinnear|    Stephanie Sigman|Action|Adventure|...|             Spectre|\n",
      "|Christopher Nolan|         Tom Hardy|      Christian Bale|Joseph Gordon-Levitt|     Action|Thriller|The Dark Knight R...|\n",
      "|      Doug Walker|       Doug Walker|          Rob Walker|                    |         Documentary|Star Wars: Episod...|\n",
      "|        Sam Raimi|      J.K. Simmons|        James Franco|       Kirsten Dunst|Action|Adventure|...|        Spider-Man 3|\n",
      "|     Nathan Greno|      Brad Garrett|        Donna Murphy|         M.C. Gainey|Adventure|Animati...|             Tangled|\n",
      "|      Joss Whedon|   Chris Hemsworth|   Robert Downey Jr.|  Scarlett Johansson|Action|Adventure|...|Avengers: Age of ...|\n",
      "|      David Yates|      Alan Rickman|    Daniel Radcliffe|        Rupert Grint|Adventure|Family|...|Harry Potter and ...|\n",
      "|      Zack Snyder|      Henry Cavill|        Lauren Cohan|      Alan D. Purwin|Action|Adventure|...|Batman v Superman...|\n",
      "|     Bryan Singer|      Kevin Spacey|       Marlon Brando|      Frank Langella|Action|Adventure|...|    Superman Returns|\n",
      "|     Marc Forster|Giancarlo Giannini|     Mathieu Amalric|        Rory Kinnear|    Action|Adventure|   Quantum of Solace|\n",
      "|   Gore Verbinski|       Johnny Depp|       Orlando Bloom|      Jack Davenport|Action|Adventure|...|Pirates of the Ca...|\n",
      "|   Gore Verbinski|       Johnny Depp|         Ruth Wilson|       Tom Wilkinson|Action|Adventure|...|     The Lone Ranger|\n",
      "|      Zack Snyder|      Henry Cavill|  Christopher Meloni|        Harry Lennix|Action|Adventure|...|        Man of Steel|\n",
      "|   Andrew Adamson|    Peter Dinklage|Pierfrancesco Favino|      Damián Alcázar|Action|Adventure|...|The Chronicles of...|\n",
      "|      Joss Whedon|   Chris Hemsworth|   Robert Downey Jr.|  Scarlett Johansson|Action|Adventure|...|        The Avengers|\n",
      "|     Rob Marshall|       Johnny Depp|         Sam Claflin|      Stephen Graham|Action|Adventure|...|Pirates of the Ca...|\n",
      "|    Peter Jackson|      Aidan Turner|          Adam Brown|       James Nesbitt|   Adventure|Fantasy|The Hobbit: The B...|\n",
      "+-----------------+------------------+--------------------+--------------------+--------------------+--------------------+\n",
      "only showing top 20 rows\n",
      "\n"
     ]
    }
   ],
   "source": [
    "df1.show()"
   ]
  },
  {
   "cell_type": "code",
   "execution_count": 9,
   "metadata": {},
   "outputs": [
    {
     "data": {
      "text/plain": [
       "DataFrame[director_name: string, actor_1_name: string, actor_2_name: string, actor_3_name: string, genres: string, movie_title: string]"
      ]
     },
     "execution_count": 9,
     "metadata": {},
     "output_type": "execute_result"
    }
   ],
   "source": [
    "from pyspark.sql.functions import *\n",
    "df1.withColumn(\"genres\",regexp_replace(\"genres\",\"[|]\", \" \"))\n",
    "#df1.withColumn(\"genres\", explode(split(\"genres\",\"[|]\"))).show()"
   ]
  },
  {
   "cell_type": "markdown",
   "metadata": {},
   "source": [
    "## seperating different Genres"
   ]
  },
  {
   "cell_type": "code",
   "execution_count": 10,
   "metadata": {},
   "outputs": [],
   "source": [
    "newdf=df1.withColumn(\"genres\",regexp_replace(\"genres\",\"[|]\", \" \"))"
   ]
  },
  {
   "cell_type": "code",
   "execution_count": 11,
   "metadata": {},
   "outputs": [
    {
     "name": "stdout",
     "output_type": "stream",
     "text": [
      "+-----------------+------------------+--------------------+--------------------+--------------------+--------------------+\n",
      "|    director_name|      actor_1_name|        actor_2_name|        actor_3_name|              genres|         movie_title|\n",
      "+-----------------+------------------+--------------------+--------------------+--------------------+--------------------+\n",
      "|    James Cameron|       CCH Pounder|    Joel David Moore|           Wes Studi|Action Adventure ...|              Avatar|\n",
      "|   Gore Verbinski|       Johnny Depp|       Orlando Bloom|      Jack Davenport|Action Adventure ...|Pirates of the Ca...|\n",
      "|   Andrew Stanton|      Daryl Sabara|     Samantha Morton|        Polly Walker|Action Adventure ...|         John Carter|\n",
      "|       Sam Mendes|   Christoph Waltz|        Rory Kinnear|    Stephanie Sigman|Action Adventure ...|             Spectre|\n",
      "|Christopher Nolan|         Tom Hardy|      Christian Bale|Joseph Gordon-Levitt|     Action Thriller|The Dark Knight R...|\n",
      "|      Doug Walker|       Doug Walker|          Rob Walker|                    |         Documentary|Star Wars: Episod...|\n",
      "|        Sam Raimi|      J.K. Simmons|        James Franco|       Kirsten Dunst|Action Adventure ...|        Spider-Man 3|\n",
      "|     Nathan Greno|      Brad Garrett|        Donna Murphy|         M.C. Gainey|Adventure Animati...|             Tangled|\n",
      "|      Joss Whedon|   Chris Hemsworth|   Robert Downey Jr.|  Scarlett Johansson|Action Adventure ...|Avengers: Age of ...|\n",
      "|      David Yates|      Alan Rickman|    Daniel Radcliffe|        Rupert Grint|Adventure Family ...|Harry Potter and ...|\n",
      "|      Zack Snyder|      Henry Cavill|        Lauren Cohan|      Alan D. Purwin|Action Adventure ...|Batman v Superman...|\n",
      "|     Bryan Singer|      Kevin Spacey|       Marlon Brando|      Frank Langella|Action Adventure ...|    Superman Returns|\n",
      "|     Marc Forster|Giancarlo Giannini|     Mathieu Amalric|        Rory Kinnear|    Action Adventure|   Quantum of Solace|\n",
      "|   Gore Verbinski|       Johnny Depp|       Orlando Bloom|      Jack Davenport|Action Adventure ...|Pirates of the Ca...|\n",
      "|   Gore Verbinski|       Johnny Depp|         Ruth Wilson|       Tom Wilkinson|Action Adventure ...|     The Lone Ranger|\n",
      "|      Zack Snyder|      Henry Cavill|  Christopher Meloni|        Harry Lennix|Action Adventure ...|        Man of Steel|\n",
      "|   Andrew Adamson|    Peter Dinklage|Pierfrancesco Favino|      Damián Alcázar|Action Adventure ...|The Chronicles of...|\n",
      "|      Joss Whedon|   Chris Hemsworth|   Robert Downey Jr.|  Scarlett Johansson|Action Adventure ...|        The Avengers|\n",
      "|     Rob Marshall|       Johnny Depp|         Sam Claflin|      Stephen Graham|Action Adventure ...|Pirates of the Ca...|\n",
      "|    Peter Jackson|      Aidan Turner|          Adam Brown|       James Nesbitt|   Adventure Fantasy|The Hobbit: The B...|\n",
      "+-----------------+------------------+--------------------+--------------------+--------------------+--------------------+\n",
      "only showing top 20 rows\n",
      "\n"
     ]
    }
   ],
   "source": [
    "newdf.show()"
   ]
  },
  {
   "cell_type": "code",
   "execution_count": 14,
   "metadata": {},
   "outputs": [
    {
     "data": {
      "text/plain": [
       "Column<b'movie_title[1]'>"
      ]
     },
     "execution_count": 14,
     "metadata": {},
     "output_type": "execute_result"
    }
   ],
   "source": [
    "newdf[\"movie_title\"][1]"
   ]
  },
  {
   "cell_type": "code",
   "execution_count": 15,
   "metadata": {},
   "outputs": [
    {
     "name": "stdout",
     "output_type": "stream",
     "text": [
      "+--------------------+\n",
      "|         movie_title|\n",
      "+--------------------+\n",
      "|              Avatar|\n",
      "|Pirates of the Ca...|\n",
      "|         John Carter|\n",
      "|             Spectre|\n",
      "|The Dark Knight R...|\n",
      "|Star Wars: Episod...|\n",
      "|        Spider-Man 3|\n",
      "|             Tangled|\n",
      "|Avengers: Age of ...|\n",
      "|Harry Potter and ...|\n",
      "|Batman v Superman...|\n",
      "|    Superman Returns|\n",
      "|   Quantum of Solace|\n",
      "|Pirates of the Ca...|\n",
      "|     The Lone Ranger|\n",
      "|        Man of Steel|\n",
      "|The Chronicles of...|\n",
      "|        The Avengers|\n",
      "|Pirates of the Ca...|\n",
      "|The Hobbit: The B...|\n",
      "+--------------------+\n",
      "only showing top 20 rows\n",
      "\n"
     ]
    }
   ],
   "source": [
    "#selecting only movie_title column\n",
    "newdf.select(\"movie_title\").show()"
   ]
  },
  {
   "cell_type": "code",
   "execution_count": 16,
   "metadata": {},
   "outputs": [
    {
     "data": {
      "text/plain": [
       "[Row(movie_title='Avatar'),\n",
       " Row(movie_title=\"Pirates of the Caribbean: At World's End\")]"
      ]
     },
     "execution_count": 16,
     "metadata": {},
     "output_type": "execute_result"
    }
   ],
   "source": [
    "#printing first 2 titles\n",
    "newdf.select(\"movie_title\").head(2)"
   ]
  },
  {
   "cell_type": "markdown",
   "metadata": {},
   "source": [
    "## null terminating char at the end"
   ]
  },
  {
   "cell_type": "code",
   "execution_count": 19,
   "metadata": {},
   "outputs": [],
   "source": [
    "newDF = newdf.withColumn(\"movie_title\", split(newdf['movie_title'], '\\xa0')[0])"
   ]
  },
  {
   "cell_type": "code",
   "execution_count": 20,
   "metadata": {},
   "outputs": [
    {
     "name": "stdout",
     "output_type": "stream",
     "text": [
      "+-----------------+------------------+--------------------+--------------------+--------------------+--------------------+\n",
      "|    director_name|      actor_1_name|        actor_2_name|        actor_3_name|              genres|         movie_title|\n",
      "+-----------------+------------------+--------------------+--------------------+--------------------+--------------------+\n",
      "|    James Cameron|       CCH Pounder|    Joel David Moore|           Wes Studi|Action Adventure ...|              Avatar|\n",
      "|   Gore Verbinski|       Johnny Depp|       Orlando Bloom|      Jack Davenport|Action Adventure ...|Pirates of the Ca...|\n",
      "|   Andrew Stanton|      Daryl Sabara|     Samantha Morton|        Polly Walker|Action Adventure ...|         John Carter|\n",
      "|       Sam Mendes|   Christoph Waltz|        Rory Kinnear|    Stephanie Sigman|Action Adventure ...|             Spectre|\n",
      "|Christopher Nolan|         Tom Hardy|      Christian Bale|Joseph Gordon-Levitt|     Action Thriller|The Dark Knight R...|\n",
      "|      Doug Walker|       Doug Walker|          Rob Walker|                    |         Documentary|Star Wars: Episod...|\n",
      "|        Sam Raimi|      J.K. Simmons|        James Franco|       Kirsten Dunst|Action Adventure ...|        Spider-Man 3|\n",
      "|     Nathan Greno|      Brad Garrett|        Donna Murphy|         M.C. Gainey|Adventure Animati...|             Tangled|\n",
      "|      Joss Whedon|   Chris Hemsworth|   Robert Downey Jr.|  Scarlett Johansson|Action Adventure ...|Avengers: Age of ...|\n",
      "|      David Yates|      Alan Rickman|    Daniel Radcliffe|        Rupert Grint|Adventure Family ...|Harry Potter and ...|\n",
      "|      Zack Snyder|      Henry Cavill|        Lauren Cohan|      Alan D. Purwin|Action Adventure ...|Batman v Superman...|\n",
      "|     Bryan Singer|      Kevin Spacey|       Marlon Brando|      Frank Langella|Action Adventure ...|    Superman Returns|\n",
      "|     Marc Forster|Giancarlo Giannini|     Mathieu Amalric|        Rory Kinnear|    Action Adventure|   Quantum of Solace|\n",
      "|   Gore Verbinski|       Johnny Depp|       Orlando Bloom|      Jack Davenport|Action Adventure ...|Pirates of the Ca...|\n",
      "|   Gore Verbinski|       Johnny Depp|         Ruth Wilson|       Tom Wilkinson|Action Adventure ...|     The Lone Ranger|\n",
      "|      Zack Snyder|      Henry Cavill|  Christopher Meloni|        Harry Lennix|Action Adventure ...|        Man of Steel|\n",
      "|   Andrew Adamson|    Peter Dinklage|Pierfrancesco Favino|      Damián Alcázar|Action Adventure ...|The Chronicles of...|\n",
      "|      Joss Whedon|   Chris Hemsworth|   Robert Downey Jr.|  Scarlett Johansson|Action Adventure ...|        The Avengers|\n",
      "|     Rob Marshall|       Johnny Depp|         Sam Claflin|      Stephen Graham|Action Adventure ...|Pirates of the Ca...|\n",
      "|    Peter Jackson|      Aidan Turner|          Adam Brown|       James Nesbitt|   Adventure Fantasy|The Hobbit: The B...|\n",
      "+-----------------+------------------+--------------------+--------------------+--------------------+--------------------+\n",
      "only showing top 20 rows\n",
      "\n"
     ]
    }
   ],
   "source": [
    "newDF.show()"
   ]
  },
  {
   "cell_type": "code",
   "execution_count": 21,
   "metadata": {},
   "outputs": [
    {
     "data": {
      "text/plain": [
       "[Row(movie_title='Avatar'),\n",
       " Row(movie_title=\"Pirates of the Caribbean: At World's End\")]"
      ]
     },
     "execution_count": 21,
     "metadata": {},
     "output_type": "execute_result"
    }
   ],
   "source": [
    "newDF.select(\"movie_title\").head(2)"
   ]
  },
  {
   "cell_type": "markdown",
   "metadata": {},
   "source": [
    "## converting title column to lower case"
   ]
  },
  {
   "cell_type": "code",
   "execution_count": 22,
   "metadata": {},
   "outputs": [],
   "source": [
    "new_DF=newDF.withColumn('movie_title',lower(newDF.movie_title))"
   ]
  },
  {
   "cell_type": "code",
   "execution_count": 33,
   "metadata": {},
   "outputs": [
    {
     "name": "stdout",
     "output_type": "stream",
     "text": [
      "+-----------------+------------------+--------------------+--------------------+--------------------+--------------------+\n",
      "|    director_name|      actor_1_name|        actor_2_name|        actor_3_name|              genres|         movie_title|\n",
      "+-----------------+------------------+--------------------+--------------------+--------------------+--------------------+\n",
      "|    James Cameron|       CCH Pounder|    Joel David Moore|           Wes Studi|Action Adventure ...|              avatar|\n",
      "|   Gore Verbinski|       Johnny Depp|       Orlando Bloom|      Jack Davenport|Action Adventure ...|pirates of the ca...|\n",
      "|       Sam Mendes|   Christoph Waltz|        Rory Kinnear|    Stephanie Sigman|Action Adventure ...|             spectre|\n",
      "|Christopher Nolan|         Tom Hardy|      Christian Bale|Joseph Gordon-Levitt|     Action Thriller|the dark knight r...|\n",
      "|      Doug Walker|       Doug Walker|          Rob Walker|                null|         Documentary|star wars: episod...|\n",
      "|   Andrew Stanton|      Daryl Sabara|     Samantha Morton|        Polly Walker|Action Adventure ...|         john carter|\n",
      "|        Sam Raimi|      J.K. Simmons|        James Franco|       Kirsten Dunst|Action Adventure ...|        spider-man 3|\n",
      "|     Nathan Greno|      Brad Garrett|        Donna Murphy|         M.C. Gainey|Adventure Animati...|             tangled|\n",
      "|      Joss Whedon|   Chris Hemsworth|   Robert Downey Jr.|  Scarlett Johansson|Action Adventure ...|avengers: age of ...|\n",
      "|      David Yates|      Alan Rickman|    Daniel Radcliffe|        Rupert Grint|Adventure Family ...|harry potter and ...|\n",
      "|      Zack Snyder|      Henry Cavill|        Lauren Cohan|      Alan D. Purwin|Action Adventure ...|batman v superman...|\n",
      "|     Bryan Singer|      Kevin Spacey|       Marlon Brando|      Frank Langella|Action Adventure ...|    superman returns|\n",
      "|     Marc Forster|Giancarlo Giannini|     Mathieu Amalric|        Rory Kinnear|    Action Adventure|   quantum of solace|\n",
      "|   Gore Verbinski|       Johnny Depp|       Orlando Bloom|      Jack Davenport|Action Adventure ...|pirates of the ca...|\n",
      "|   Gore Verbinski|       Johnny Depp|         Ruth Wilson|       Tom Wilkinson|Action Adventure ...|     the lone ranger|\n",
      "|      Zack Snyder|      Henry Cavill|  Christopher Meloni|        Harry Lennix|Action Adventure ...|        man of steel|\n",
      "|   Andrew Adamson|    Peter Dinklage|Pierfrancesco Favino|      Damián Alcázar|Action Adventure ...|the chronicles of...|\n",
      "|      Joss Whedon|   Chris Hemsworth|   Robert Downey Jr.|  Scarlett Johansson|Action Adventure ...|        the avengers|\n",
      "|     Rob Marshall|       Johnny Depp|         Sam Claflin|      Stephen Graham|Action Adventure ...|pirates of the ca...|\n",
      "| Barry Sonnenfeld|        Will Smith|   Michael Stuhlbarg|  Nicole Scherzinger|Action Adventure ...|      men in black 3|\n",
      "+-----------------+------------------+--------------------+--------------------+--------------------+--------------------+\n",
      "only showing top 20 rows\n",
      "\n"
     ]
    }
   ],
   "source": [
    "new_DF.show()"
   ]
  },
  {
   "cell_type": "markdown",
   "metadata": {},
   "source": [
    "## saving it as new csv file"
   ]
  },
  {
   "cell_type": "code",
   "execution_count": 34,
   "metadata": {},
   "outputs": [],
   "source": [
    "#new_DF.write.csv('data.csv')\n",
    "\n",
    "new_DF.write.format('csv').option('header',True).mode('overwrite').option('sep',',').save('moutput.csv')"
   ]
  }
 ],
 "metadata": {
  "kernelspec": {
   "display_name": "Python 3",
   "language": "python",
   "name": "python3"
  },
  "language_info": {
   "codemirror_mode": {
    "name": "ipython",
    "version": 3
   },
   "file_extension": ".py",
   "mimetype": "text/x-python",
   "name": "python",
   "nbconvert_exporter": "python",
   "pygments_lexer": "ipython3",
   "version": "3.7.3"
  }
 },
 "nbformat": 4,
 "nbformat_minor": 4
}
