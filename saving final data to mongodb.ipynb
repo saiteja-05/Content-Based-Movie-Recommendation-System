{
 "cells": [
  {
   "cell_type": "code",
   "execution_count": 1,
   "metadata": {},
   "outputs": [],
   "source": [
    "import pymongo\n",
    "from pymongo import MongoClient"
   ]
  },
  {
   "cell_type": "code",
   "execution_count": 2,
   "metadata": {},
   "outputs": [],
   "source": [
    "import pandas as pd"
   ]
  },
  {
   "cell_type": "code",
   "execution_count": 3,
   "metadata": {},
   "outputs": [],
   "source": [
    "data=pd.read_csv(\"main_data.csv\")"
   ]
  },
  {
   "cell_type": "code",
   "execution_count": 5,
   "metadata": {
    "collapsed": true
   },
   "outputs": [
    {
     "data": {
      "text/html": [
       "<div>\n",
       "<style scoped>\n",
       "    .dataframe tbody tr th:only-of-type {\n",
       "        vertical-align: middle;\n",
       "    }\n",
       "\n",
       "    .dataframe tbody tr th {\n",
       "        vertical-align: top;\n",
       "    }\n",
       "\n",
       "    .dataframe thead th {\n",
       "        text-align: right;\n",
       "    }\n",
       "</style>\n",
       "<table border=\"1\" class=\"dataframe\">\n",
       "  <thead>\n",
       "    <tr style=\"text-align: right;\">\n",
       "      <th></th>\n",
       "      <th>director_name</th>\n",
       "      <th>actor_1_name</th>\n",
       "      <th>actor_2_name</th>\n",
       "      <th>actor_3_name</th>\n",
       "      <th>genres</th>\n",
       "      <th>movie_title</th>\n",
       "      <th>comb</th>\n",
       "    </tr>\n",
       "  </thead>\n",
       "  <tbody>\n",
       "    <tr>\n",
       "      <th>0</th>\n",
       "      <td>James Cameron</td>\n",
       "      <td>CCH Pounder</td>\n",
       "      <td>Joel David Moore</td>\n",
       "      <td>Wes Studi</td>\n",
       "      <td>Action Adventure Fantasy Sci-Fi</td>\n",
       "      <td>avatar</td>\n",
       "      <td>CCH Pounder Joel David Moore Wes Studi James C...</td>\n",
       "    </tr>\n",
       "    <tr>\n",
       "      <th>1</th>\n",
       "      <td>Doug Walker</td>\n",
       "      <td>Doug Walker</td>\n",
       "      <td>Rob Walker</td>\n",
       "      <td>NaN</td>\n",
       "      <td>Documentary</td>\n",
       "      <td>star wars: episode vii - the force awakens</td>\n",
       "      <td>Doug Walker Rob Walker  Doug Walker Documentary</td>\n",
       "    </tr>\n",
       "    <tr>\n",
       "      <th>2</th>\n",
       "      <td>Andrew Stanton</td>\n",
       "      <td>Daryl Sabara</td>\n",
       "      <td>Samantha Morton</td>\n",
       "      <td>Polly Walker</td>\n",
       "      <td>Action Adventure Sci-Fi</td>\n",
       "      <td>john carter</td>\n",
       "      <td>Daryl Sabara Samantha Morton Polly Walker Andr...</td>\n",
       "    </tr>\n",
       "    <tr>\n",
       "      <th>3</th>\n",
       "      <td>Nathan Greno</td>\n",
       "      <td>Brad Garrett</td>\n",
       "      <td>Donna Murphy</td>\n",
       "      <td>M.C. Gainey</td>\n",
       "      <td>Adventure Animation Comedy Family Fantasy Musi...</td>\n",
       "      <td>tangled</td>\n",
       "      <td>Brad Garrett Donna Murphy M.C. Gainey Nathan G...</td>\n",
       "    </tr>\n",
       "    <tr>\n",
       "      <th>4</th>\n",
       "      <td>Joss Whedon</td>\n",
       "      <td>Chris Hemsworth</td>\n",
       "      <td>Robert Downey Jr.</td>\n",
       "      <td>Scarlett Johansson</td>\n",
       "      <td>Action Adventure Sci-Fi</td>\n",
       "      <td>avengers: age of ultron</td>\n",
       "      <td>Chris Hemsworth Robert Downey Jr. Scarlett Joh...</td>\n",
       "    </tr>\n",
       "    <tr>\n",
       "      <th>...</th>\n",
       "      <td>...</td>\n",
       "      <td>...</td>\n",
       "      <td>...</td>\n",
       "      <td>...</td>\n",
       "      <td>...</td>\n",
       "      <td>...</td>\n",
       "      <td>...</td>\n",
       "    </tr>\n",
       "    <tr>\n",
       "      <th>6063</th>\n",
       "      <td>Pete Docter</td>\n",
       "      <td>Jamie Foxx</td>\n",
       "      <td>Tina Fey</td>\n",
       "      <td>Graham Norton</td>\n",
       "      <td>Animation Comedy Drama Music Fantasy</td>\n",
       "      <td>soul</td>\n",
       "      <td>Jamie Foxx Tina Fey Graham Norton Pete Docter ...</td>\n",
       "    </tr>\n",
       "    <tr>\n",
       "      <th>6064</th>\n",
       "      <td>Robert Rodriguez</td>\n",
       "      <td>Priyanka Chopra Jonas</td>\n",
       "      <td>Pedro Pascal</td>\n",
       "      <td>YaYa Gosselin</td>\n",
       "      <td>Action Fantasy Family</td>\n",
       "      <td>we can be heroes</td>\n",
       "      <td>Priyanka Chopra Jonas Pedro Pascal YaYa Gossel...</td>\n",
       "    </tr>\n",
       "    <tr>\n",
       "      <th>6065</th>\n",
       "      <td>Regina King</td>\n",
       "      <td>Kingsley Ben-Adir</td>\n",
       "      <td>Eli Goree</td>\n",
       "      <td>Aldis Hodge</td>\n",
       "      <td>Drama</td>\n",
       "      <td>one night in miami</td>\n",
       "      <td>Kingsley Ben-Adir Eli Goree Aldis Hodge Regina...</td>\n",
       "    </tr>\n",
       "    <tr>\n",
       "      <th>6066</th>\n",
       "      <td>Emerald Fennell</td>\n",
       "      <td>Carey Mulligan</td>\n",
       "      <td>Bo Burnham</td>\n",
       "      <td>Alison Brie</td>\n",
       "      <td>Thriller Crime Drama</td>\n",
       "      <td>promising young woman</td>\n",
       "      <td>Carey Mulligan Bo Burnham Alison Brie Emerald ...</td>\n",
       "    </tr>\n",
       "    <tr>\n",
       "      <th>6067</th>\n",
       "      <td>Kornél Mundruczó</td>\n",
       "      <td>Vanessa Kirby</td>\n",
       "      <td>Shia LaBeouf</td>\n",
       "      <td>Molly Parker</td>\n",
       "      <td>Drama</td>\n",
       "      <td>pieces of a woman</td>\n",
       "      <td>Vanessa Kirby Shia LaBeouf Molly Parker Kornél...</td>\n",
       "    </tr>\n",
       "  </tbody>\n",
       "</table>\n",
       "<p>6068 rows × 7 columns</p>\n",
       "</div>"
      ],
      "text/plain": [
       "         director_name           actor_1_name       actor_2_name  \\\n",
       "0        James Cameron            CCH Pounder   Joel David Moore   \n",
       "1          Doug Walker            Doug Walker         Rob Walker   \n",
       "2       Andrew Stanton           Daryl Sabara    Samantha Morton   \n",
       "3         Nathan Greno           Brad Garrett       Donna Murphy   \n",
       "4          Joss Whedon        Chris Hemsworth  Robert Downey Jr.   \n",
       "...                ...                    ...                ...   \n",
       "6063       Pete Docter             Jamie Foxx           Tina Fey   \n",
       "6064  Robert Rodriguez  Priyanka Chopra Jonas       Pedro Pascal   \n",
       "6065       Regina King      Kingsley Ben-Adir          Eli Goree   \n",
       "6066   Emerald Fennell         Carey Mulligan         Bo Burnham   \n",
       "6067  Kornél Mundruczó          Vanessa Kirby       Shia LaBeouf   \n",
       "\n",
       "            actor_3_name                                             genres  \\\n",
       "0              Wes Studi                    Action Adventure Fantasy Sci-Fi   \n",
       "1                    NaN                                        Documentary   \n",
       "2           Polly Walker                            Action Adventure Sci-Fi   \n",
       "3            M.C. Gainey  Adventure Animation Comedy Family Fantasy Musi...   \n",
       "4     Scarlett Johansson                            Action Adventure Sci-Fi   \n",
       "...                  ...                                                ...   \n",
       "6063       Graham Norton               Animation Comedy Drama Music Fantasy   \n",
       "6064       YaYa Gosselin                              Action Fantasy Family   \n",
       "6065         Aldis Hodge                                              Drama   \n",
       "6066         Alison Brie                               Thriller Crime Drama   \n",
       "6067        Molly Parker                                              Drama   \n",
       "\n",
       "                                     movie_title  \\\n",
       "0                                         avatar   \n",
       "1     star wars: episode vii - the force awakens   \n",
       "2                                    john carter   \n",
       "3                                        tangled   \n",
       "4                        avengers: age of ultron   \n",
       "...                                          ...   \n",
       "6063                                        soul   \n",
       "6064                            we can be heroes   \n",
       "6065                          one night in miami   \n",
       "6066                       promising young woman   \n",
       "6067                           pieces of a woman   \n",
       "\n",
       "                                                   comb  \n",
       "0     CCH Pounder Joel David Moore Wes Studi James C...  \n",
       "1       Doug Walker Rob Walker  Doug Walker Documentary  \n",
       "2     Daryl Sabara Samantha Morton Polly Walker Andr...  \n",
       "3     Brad Garrett Donna Murphy M.C. Gainey Nathan G...  \n",
       "4     Chris Hemsworth Robert Downey Jr. Scarlett Joh...  \n",
       "...                                                 ...  \n",
       "6063  Jamie Foxx Tina Fey Graham Norton Pete Docter ...  \n",
       "6064  Priyanka Chopra Jonas Pedro Pascal YaYa Gossel...  \n",
       "6065  Kingsley Ben-Adir Eli Goree Aldis Hodge Regina...  \n",
       "6066  Carey Mulligan Bo Burnham Alison Brie Emerald ...  \n",
       "6067  Vanessa Kirby Shia LaBeouf Molly Parker Kornél...  \n",
       "\n",
       "[6068 rows x 7 columns]"
      ]
     },
     "execution_count": 5,
     "metadata": {},
     "output_type": "execute_result"
    }
   ],
   "source": [
    "data"
   ]
  },
  {
   "cell_type": "code",
   "execution_count": 6,
   "metadata": {},
   "outputs": [],
   "source": [
    "client=MongoClient('localhost',27017)\n",
    "db=client['sai']\n",
    "collection=db[\"final_movie_data\"]"
   ]
  },
  {
   "cell_type": "code",
   "execution_count": 7,
   "metadata": {},
   "outputs": [],
   "source": [
    "data.reset_index(inplace=True)\n",
    "data_dict=data.to_dict(\"records\")"
   ]
  },
  {
   "cell_type": "code",
   "execution_count": 8,
   "metadata": {},
   "outputs": [
    {
     "data": {
      "text/plain": [
       "<pymongo.results.InsertManyResult at 0x2690d2f5e48>"
      ]
     },
     "execution_count": 8,
     "metadata": {},
     "output_type": "execute_result"
    }
   ],
   "source": [
    "collection.insert_many(data_dict)"
   ]
  },
  {
   "cell_type": "code",
   "execution_count": null,
   "metadata": {},
   "outputs": [],
   "source": []
  }
 ],
 "metadata": {
  "kernelspec": {
   "display_name": "Python 3",
   "language": "python",
   "name": "python3"
  },
  "language_info": {
   "codemirror_mode": {
    "name": "ipython",
    "version": 3
   },
   "file_extension": ".py",
   "mimetype": "text/x-python",
   "name": "python",
   "nbconvert_exporter": "python",
   "pygments_lexer": "ipython3",
   "version": "3.7.3"
  }
 },
 "nbformat": 4,
 "nbformat_minor": 4
}
